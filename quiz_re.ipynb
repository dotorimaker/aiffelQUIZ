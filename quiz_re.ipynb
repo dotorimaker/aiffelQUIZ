{
 "cells": [
  {
   "cell_type": "code",
   "execution_count": 11,
   "metadata": {},
   "outputs": [
    {
     "data": {
      "text/plain": [
       "'010-12345-#####'"
      ]
     },
     "execution_count": 11,
     "metadata": {},
     "output_type": "execute_result"
    }
   ],
   "source": [
    "# 전화번호 입력해서 뒷자리 #으로 감추기.\n",
    "\n",
    "numbers = '010-12345-23456'\n",
    "answer=numbers.replace(numbers[-5:], '#####')\n",
    "def change_num(nums):\n",
    "    return answer\n",
    "\n",
    "#change_num('010-13579-24688')  #작은 따옴표나 큰 따옴표로 묶어서 스트링으로\n",
    "change_num(str(numbers))"
   ]
  },
  {
   "cell_type": "code",
   "execution_count": 25,
   "metadata": {},
   "outputs": [
    {
     "data": {
      "text/plain": [
       "[1, 2, 3, 4, 5, 6, 7, 8, 9]"
      ]
     },
     "execution_count": 25,
     "metadata": {},
     "output_type": "execute_result"
    }
   ],
   "source": [
    "## overlap\n",
    "\n",
    "overlap = [[1,2],3,[[4,5,6],7],8,9]\n",
    "\n",
    "def flatten(data):\n",
    "    output = []  # 빈 리스트를 만듭니다.\n",
    "    \n",
    "    for item in data:\n",
    "        if type(item) == list:\n",
    "            output += flatten(item)\n",
    "        else:\n",
    "            output.append(item)\n",
    "    return output\n",
    "\n",
    "flatten(overlap)"
   ]
  },
  {
   "cell_type": "code",
   "execution_count": 44,
   "metadata": {},
   "outputs": [
    {
     "data": {
      "text/plain": [
       "0"
      ]
     },
     "execution_count": 44,
     "metadata": {},
     "output_type": "execute_result"
    }
   ],
   "source": [
    "#프로젝트3: 10 이하 숫자만 곱해주는 함수\n",
    "\n",
    "#x = 10.0\n",
    "# if type(x) == int:\n",
    "#     print('정수입니다.')\n",
    "\n",
    "# answer = 0\n",
    "def int_divider(x,y):\n",
    "    answer =0\n",
    "    if x % 1 == 0 and y % 1 == 0:\n",
    "        anser = x / y\n",
    "    else:\n",
    "        print('정수만 가능합니다.')\n",
    "        answer = None\n",
    "    \n",
    "    return answer\n",
    "\n",
    "\n",
    "int_divider(10, 2)"
   ]
  },
  {
   "cell_type": "code",
   "execution_count": 2,
   "metadata": {},
   "outputs": [
    {
     "name": "stdout",
     "output_type": "stream",
     "text": [
      "2\n",
      "2\n"
     ]
    },
    {
     "data": {
      "text/plain": [
       "2"
      ]
     },
     "execution_count": 2,
     "metadata": {},
     "output_type": "execute_result"
    }
   ],
   "source": [
    "#3\n",
    "#######################\n",
    "\n",
    "# 함수에 몇 개의 input이 들어오든지 상관없이 , 10 이하 숫자면 모두 곱해주는 함수를 만들어 봅시다.\n",
    "# 1, 2, 3 이 들어오면 6을 출력하고\n",
    "# 2,3,4,5이 들어오면 120을 출력해야 합니다.\n",
    "# 인수의 개수가 정해져 있지 않을 때는 가변인수를 활용해야 합니다.\n",
    "\n",
    "def mul(*values):\n",
    "    output = 1\n",
    "    for num in values:\n",
    "        print(num)\n",
    "        if num <= 10:\n",
    "            output = output * num\n",
    "            # print(num)\n",
    "        else:\n",
    "            pass\n",
    "        \n",
    "        return output\n",
    "    \n",
    "mul(2,3,4)"
   ]
  },
  {
   "cell_type": "code",
   "execution_count": null,
   "metadata": {},
   "outputs": [],
   "source": []
  },
  {
   "cell_type": "code",
   "execution_count": null,
   "metadata": {},
   "outputs": [],
   "source": []
  }
 ],
 "metadata": {
  "kernelspec": {
   "display_name": "Python 3",
   "language": "python",
   "name": "python3"
  },
  "language_info": {
   "codemirror_mode": {
    "name": "ipython",
    "version": 3
   },
   "file_extension": ".py",
   "mimetype": "text/x-python",
   "name": "python",
   "nbconvert_exporter": "python",
   "pygments_lexer": "ipython3",
   "version": "3.11.2"
  },
  "orig_nbformat": 4
 },
 "nbformat": 4,
 "nbformat_minor": 2
}
