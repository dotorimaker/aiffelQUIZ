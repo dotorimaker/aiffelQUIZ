{
  "nbformat": 4,
  "nbformat_minor": 0,
  "metadata": {
    "colab": {
      "provenance": []
    },
    "kernelspec": {
      "name": "python3",
      "display_name": "Python 3"
    },
    "language_info": {
      "name": "python"
    }
  },
  "cells": [
    {
      "cell_type": "code",
      "execution_count": null,
      "metadata": {
        "id": "EURm3a0JPJdd"
      },
      "outputs": [],
      "source": [
        "#캐글."
      ]
    },
    {
      "cell_type": "code",
      "source": [],
      "metadata": {
        "id": "TNWkLEXiPQft"
      },
      "execution_count": null,
      "outputs": []
    }
  ]
}