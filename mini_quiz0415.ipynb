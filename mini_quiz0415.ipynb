{
  "nbformat": 4,
  "nbformat_minor": 0,
  "metadata": {
    "colab": {
      "provenance": []
    },
    "kernelspec": {
      "name": "python3",
      "display_name": "Python 3"
    },
    "language_info": {
      "name": "python"
    }
  },
  "cells": [
    {
      "cell_type": "code",
      "execution_count": null,
      "metadata": {
        "id": "-BExDn3MucUv"
      },
      "outputs": [],
      "source": [
        "#미니프로젝트\n",
        "# ① 비정상 데이터를 정상 데이터로 만들기\n",
        "# ② 분산을 일정하게 만들기 - log transformation\n",
        "# ③ 차분을 통해 추세 제거하기\n",
        "# ④ (추가) 계절 차분을 통해 계절성 제거하기\n",
        "# ⑤ 검정을 통해 정상성 확인하기\n",
        "# ⑥ 시계열 분류\n",
        "\n",
        "# ⑥-1 : 데이터 다운로드 및 불러오기\n",
        "# ⑥-2 : 데이터셋 확인(timeseries와 y 확인)\n",
        "# ⑥-3 : 데이터셋 가공\n",
        "# ⑥-4 : 데이터셋 나누기\n",
        "# ⑥-5 : Feature extraction\n",
        "# ⑥-6 : impute\n",
        "# ⑥-7 : RandomForest 및 XGBoost 사용 및 score 확인\n",
        "# ⑥-8 : XGBoost plot_importance 확인 및 시각화\n",
        "# ⑥-9 : Classification report를 통한 검증 및 분석"
      ]
    }
  ]
}