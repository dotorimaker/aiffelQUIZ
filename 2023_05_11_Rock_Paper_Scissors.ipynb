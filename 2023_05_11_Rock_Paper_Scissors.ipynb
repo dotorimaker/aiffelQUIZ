{
  "nbformat": 4,
  "nbformat_minor": 0,
  "metadata": {
    "colab": {
      "provenance": [],
      "gpuType": "T4"
    },
    "kernelspec": {
      "name": "python3",
      "display_name": "Python 3"
    },
    "language_info": {
      "name": "python"
    },
    "accelerator": "GPU",
    "gpuClass": "standard"
  },
  "cells": [
    {
      "cell_type": "code",
      "execution_count": 81,
      "metadata": {
        "colab": {
          "base_uri": "https://localhost:8080/"
        },
        "id": "AaoQlqTbvYLh",
        "outputId": "66a82c34-6777-49ad-a000-b59f0ca09f8c"
      },
      "outputs": [
        {
          "output_type": "stream",
          "name": "stdout",
          "text": [
            "Drive already mounted at /content/gdrive; to attempt to forcibly remount, call drive.mount(\"/content/gdrive\", force_remount=True).\n"
          ]
        }
      ],
      "source": [
        "from google.colab import drive\n",
        "drive.mount('/content/gdrive')\n",
        "\n"
      ]
    },
    {
      "cell_type": "code",
      "source": [
        "import tensorflow as tf\n",
        "import numpy as np\n",
        "\n",
        "print(tf.__version__)\n",
        "print(np.__version__)"
      ],
      "metadata": {
        "colab": {
          "base_uri": "https://localhost:8080/"
        },
        "id": "CeNMWGamzJwd",
        "outputId": "9298ecb1-3b97-43a4-9b07-d34eb45bb207"
      },
      "execution_count": 80,
      "outputs": [
        {
          "output_type": "stream",
          "name": "stdout",
          "text": [
            "2.12.0\n",
            "1.22.4\n"
          ]
        }
      ]
    },
    {
      "cell_type": "code",
      "source": [
        "# MNIST 숫자 손글씨 Dataset 불러들이기\n",
        "\n",
        "import tensorflow as tf\n",
        "from tensorflow import keras\n",
        "\n",
        "import numpy as np\n",
        "import matplotlib.pyplot as plt\n",
        "\n",
        "print(tf.__version__)   # Tensorflow의 버전을 출력\n",
        "\n",
        "mnist = keras.datasets.mnist\n",
        "\n",
        "# MNIST 데이터를 로드. 다운로드하지 않았다면 다운로드까지 자동으로 진행됩니다. \n",
        "(x_train, y_train), (x_test, y_test) = mnist.load_data()   \n",
        "\n",
        "print(len(x_train))  # x_train 배열의 크기를 출력"
      ],
      "metadata": {
        "colab": {
          "base_uri": "https://localhost:8080/"
        },
        "id": "s2w1NnOxKYyg",
        "outputId": "2b81d23a-5656-4eb6-de0b-28b1eca4058f"
      },
      "execution_count": 82,
      "outputs": [
        {
          "output_type": "stream",
          "name": "stdout",
          "text": [
            "2.12.0\n",
            "60000\n"
          ]
        }
      ]
    },
    {
      "cell_type": "code",
      "source": [
        "# index에 0에서 59999 사이 숫자를 지정해 보세요.\n",
        "index=10000     \n",
        "plt.imshow(x_train[index],cmap=plt.cm.binary)\n",
        "plt.show()\n",
        "print( (index+1), '번째 이미지의 숫자는 바로 ',  y_train[index], '입니다.')"
      ],
      "metadata": {
        "colab": {
          "base_uri": "https://localhost:8080/",
          "height": 448
        },
        "id": "RQi-ubaeK1aX",
        "outputId": "47b5ec04-1be5-4d8e-8257-f789d43b7fc4"
      },
      "execution_count": 83,
      "outputs": [
        {
          "output_type": "display_data",
          "data": {
            "text/plain": [
              "<Figure size 640x480 with 1 Axes>"
            ],
            "image/png": "[encoded data removed]"
          },
          "metadata": {}
        },
        {
          "output_type": "stream",
          "name": "stdout",
          "text": [
            "10001 번째 이미지의 숫자는 바로  3 입니다.\n"
          ]
        }
      ]
    },
    {
      "cell_type": "code",
      "source": [
        "# 데이터 전처리 하기\n",
        "\n",
        "x_train_norm, x_test_norm = x_train / 255.0, x_test / 255.0\n",
        "print('최소값:',np.min(x_train_norm), ' 최대값:',np.max(x_train_norm))"
      ],
      "metadata": {
        "colab": {
          "base_uri": "https://localhost:8080/"
        },
        "id": "Vj8c2koOK52B",
        "outputId": "04795697-4c8a-40d6-9474-9790402c3c40"
      },
      "execution_count": 84,
      "outputs": [
        {
          "output_type": "stream",
          "name": "stdout",
          "text": [
            "최소값: 0.0  최대값: 1.0\n"
          ]
        }
      ]
    },
    {
      "cell_type": "code",
      "source": [
        "\n",
        "\n",
        "\n",
        "# 가위,바위,보 이미지를 resize 하자.\n",
        "# 사이저는 28 x 28로 하자\n",
        "\n",
        "from PIL import Image\n",
        "import glob\n",
        "import os\n",
        "\n",
        "print(\"PIL 라이브러리 import 완료!\")"
      ],
      "metadata": {
        "colab": {
          "base_uri": "https://localhost:8080/"
        },
        "id": "7bPOE2rnSPiH",
        "outputId": "95489f42-60ea-4eaf-ea95-e709d4664579"
      },
      "execution_count": 85,
      "outputs": [
        {
          "output_type": "stream",
          "name": "stdout",
          "text": [
            "PIL 라이브러리 import 완료!\n"
          ]
        }
      ]
    },
    {
      "cell_type": "code",
      "source": [
        "pwd"
      ],
      "metadata": {
        "colab": {
          "base_uri": "https://localhost:8080/",
          "height": 35
        },
        "id": "9Co5_F7H39hh",
        "outputId": "4f7dc945-3ac7-4c06-e75b-d507707c6336"
      },
      "execution_count": 86,
      "outputs": [
        {
          "output_type": "execute_result",
          "data": {
            "text/plain": [
              "'/content'"
            ],
            "application/vnd.google.colaboratory.intrinsic+json": {
              "type": "string"
            }
          },
          "metadata": {},
          "execution_count": 86
        }
      ]
    },
    {
      "cell_type": "code",
      "source": [
        "# 딥러닝 네트워크 설계하기\n",
        "\n",
        "model=keras.models.Sequential()\n",
        "model.add(keras.layers.Conv2D(16, (3,3), activation='relu', input_shape=(28,28,1)))\n",
        "model.add(keras.layers.MaxPool2D(2,2))\n",
        "model.add(keras.layers.Conv2D(32, (3,3), activation='relu'))\n",
        "model.add(keras.layers.MaxPooling2D((2,2)))\n",
        "model.add(keras.layers.Flatten())\n",
        "model.add(keras.layers.Dense(32, activation='relu'))\n",
        "model.add(keras.layers.Dense(10, activation='softmax'))\n",
        "\n",
        "print('Model에 추가된 Layer 개수: ', len(model.layers))\n",
        "\n",
        "model.summary()"
      ],
      "metadata": {
        "colab": {
          "base_uri": "https://localhost:8080/"
        },
        "id": "w9tB2bCkLCkG",
        "outputId": "2c9da71f-d7fc-4570-f24e-0ee0f8a193e4"
      },
      "execution_count": 87,
      "outputs": [
        {
          "output_type": "stream",
          "name": "stdout",
          "text": [
            "Model에 추가된 Layer 개수:  7\n",
            "Model: \"sequential_8\"\n",
            "_________________________________________________________________\n",
            " Layer (type)                Output Shape              Param #   \n",
            "=================================================================\n",
            " conv2d_16 (Conv2D)          (None, 26, 26, 16)        160       \n",
            "                                                                 \n",
            " max_pooling2d_16 (MaxPoolin  (None, 13, 13, 16)       0         \n",
            " g2D)                                                            \n",
            "                                                                 \n",
            " conv2d_17 (Conv2D)          (None, 11, 11, 32)        4640      \n",
            "                                                                 \n",
            " max_pooling2d_17 (MaxPoolin  (None, 5, 5, 32)         0         \n",
            " g2D)                                                            \n",
            "                                                                 \n",
            " flatten_8 (Flatten)         (None, 800)               0         \n",
            "                                                                 \n",
            " dense_16 (Dense)            (None, 32)                25632     \n",
            "                                                                 \n",
            " dense_17 (Dense)            (None, 10)                330       \n",
            "                                                                 \n",
            "=================================================================\n",
            "Total params: 30,762\n",
            "Trainable params: 30,762\n",
            "Non-trainable params: 0\n",
            "_________________________________________________________________\n"
          ]
        }
      ]
    },
    {
      "cell_type": "code",
      "source": [
        "# 딥러닝 네트워크 학습시키기\n",
        "\n",
        "print(\"Before Reshape - x_train_norm shape: {}\".format(x_train_norm.shape))\n",
        "print(\"Before Reshape - x_test_norm shape: {}\".format(x_test_norm.shape))\n",
        "\n",
        "x_train_reshaped=x_train_norm.reshape( -1, 28, 28, 1)  # 데이터갯수에 -1을 쓰면 reshape시 자동계산됩니다.\n",
        "x_test_reshaped=x_test_norm.reshape( -1, 28, 28, 1)\n",
        "\n",
        "print(\"After Reshape - x_train_reshaped shape: {}\".format(x_train_reshaped.shape))\n",
        "print(\"After Reshape - x_test_reshaped shape: {}\".format(x_test_reshaped.shape))"
      ],
      "metadata": {
        "colab": {
          "base_uri": "https://localhost:8080/"
        },
        "id": "7E3nIp_JLtwE",
        "outputId": "a78b091b-3554-4839-9ac4-92a38c4bc202"
      },
      "execution_count": 111,
      "outputs": [
        {
          "output_type": "stream",
          "name": "stdout",
          "text": [
            "Before Reshape - x_train_norm shape: (3300, 28, 28, 3)\n",
            "Before Reshape - x_test_norm shape: (300, 28, 28, 3)\n",
            "After Reshape - x_train_reshaped shape: (9900, 28, 28, 1)\n",
            "After Reshape - x_test_reshaped shape: (900, 28, 28, 1)\n"
          ]
        }
      ]
    },
    {
      "cell_type": "code",
      "source": [
        "model.compile(optimizer='adam',\n",
        "             loss='sparse_categorical_crossentropy',\n",
        "             metrics=['accuracy'])\n",
        "\n",
        "model.fit(x_train_reshaped, y_train, epochs=10)\n",
        "\n"
      ],
      "metadata": {
        "colab": {
          "base_uri": "https://localhost:8080/",
          "height": 435
        },
        "id": "wUGYRq8nPlJY",
        "outputId": "a3c81ccb-a599-4bbd-9fc0-2a4cf6d9fbb0"
      },
      "execution_count": 113,
      "outputs": [
        {
          "output_type": "error",
          "ename": "ValueError",
          "evalue": "ignored",
          "traceback": [
            "\u001b[0;31m---------------------------------------------------------------------------\u001b[0m",
            "\u001b[0;31mValueError\u001b[0m                                Traceback (most recent call last)",
            "\u001b[0;32m<ipython-input-113-d58bccc1c0b9>\u001b[0m in \u001b[0;36m<cell line: 5>\u001b[0;34m()\u001b[0m\n\u001b[1;32m      3\u001b[0m              metrics=['accuracy'])\n\u001b[1;32m      4\u001b[0m \u001b[0;34m\u001b[0m\u001b[0m\n\u001b[0;32m----> 5\u001b[0;31m \u001b[0mmodel\u001b[0m\u001b[0;34m.\u001b[0m\u001b[0mfit\u001b[0m\u001b[0;34m(\u001b[0m\u001b[0mx_train_reshaped\u001b[0m\u001b[0;34m,\u001b[0m \u001b[0my_train\u001b[0m\u001b[0;34m,\u001b[0m \u001b[0mepochs\u001b[0m\u001b[0;34m=\u001b[0m\u001b[0;36m10\u001b[0m\u001b[0;34m)\u001b[0m\u001b[0;34m\u001b[0m\u001b[0;34m\u001b[0m\u001b[0m\n\u001b[0m\u001b[1;32m      6\u001b[0m \u001b[0;34m\u001b[0m\u001b[0m\n",
            "\u001b[0;32m/usr/local/lib/python3.10/dist-packages/keras/utils/traceback_utils.py\u001b[0m in \u001b[0;36merror_handler\u001b[0;34m(*args, **kwargs)\u001b[0m\n\u001b[1;32m     68\u001b[0m             \u001b[0;31m# To get the full stack trace, call:\u001b[0m\u001b[0;34m\u001b[0m\u001b[0;34m\u001b[0m\u001b[0m\n\u001b[1;32m     69\u001b[0m             \u001b[0;31m# `tf.debugging.disable_traceback_filtering()`\u001b[0m\u001b[0;34m\u001b[0m\u001b[0;34m\u001b[0m\u001b[0m\n\u001b[0;32m---> 70\u001b[0;31m             \u001b[0;32mraise\u001b[0m \u001b[0me\u001b[0m\u001b[0;34m.\u001b[0m\u001b[0mwith_traceback\u001b[0m\u001b[0;34m(\u001b[0m\u001b[0mfiltered_tb\u001b[0m\u001b[0;34m)\u001b[0m \u001b[0;32mfrom\u001b[0m \u001b[0;32mNone\u001b[0m\u001b[0;34m\u001b[0m\u001b[0;34m\u001b[0m\u001b[0m\n\u001b[0m\u001b[1;32m     71\u001b[0m         \u001b[0;32mfinally\u001b[0m\u001b[0;34m:\u001b[0m\u001b[0;34m\u001b[0m\u001b[0;34m\u001b[0m\u001b[0m\n\u001b[1;32m     72\u001b[0m             \u001b[0;32mdel\u001b[0m \u001b[0mfiltered_tb\u001b[0m\u001b[0;34m\u001b[0m\u001b[0;34m\u001b[0m\u001b[0m\n",
            "\u001b[0;32m/usr/local/lib/python3.10/dist-packages/keras/engine/data_adapter.py\u001b[0m in \u001b[0;36m_check_data_cardinality\u001b[0;34m(data)\u001b[0m\n\u001b[1;32m   1850\u001b[0m             )\n\u001b[1;32m   1851\u001b[0m         \u001b[0mmsg\u001b[0m \u001b[0;34m+=\u001b[0m \u001b[0;34m\"Make sure all arrays contain the same number of samples.\"\u001b[0m\u001b[0;34m\u001b[0m\u001b[0;34m\u001b[0m\u001b[0m\n\u001b[0;32m-> 1852\u001b[0;31m         \u001b[0;32mraise\u001b[0m \u001b[0mValueError\u001b[0m\u001b[0;34m(\u001b[0m\u001b[0mmsg\u001b[0m\u001b[0;34m)\u001b[0m\u001b[0;34m\u001b[0m\u001b[0;34m\u001b[0m\u001b[0m\n\u001b[0m\u001b[1;32m   1853\u001b[0m \u001b[0;34m\u001b[0m\u001b[0m\n\u001b[1;32m   1854\u001b[0m \u001b[0;34m\u001b[0m\u001b[0m\n",
            "\u001b[0;31mValueError\u001b[0m: Data cardinality is ambiguous:\n  x sizes: 9900\n  y sizes: 3300\nMake sure all arrays contain the same number of samples."
          ]
        }
      ]
    },
    {
      "cell_type": "code",
      "source": [
        "# 모델 평가하기\n",
        "# 테스트 데이터로 성능을 확인해보기\n",
        "test_loss, test_accuracy = model.evaluate(x_test_reshaped,y_test, verbose=2)\n",
        "print(\"test_loss: {} \".format(test_loss))\n",
        "print(\"test_accuracy: {}\".format(test_accuracy))"
      ],
      "metadata": {
        "colab": {
          "base_uri": "https://localhost:8080/"
        },
        "id": "A8DtszZvMALT",
        "outputId": "e1f7082d-692d-4b4b-8a01-0f79161b659e"
      },
      "execution_count": 90,
      "outputs": [
        {
          "output_type": "stream",
          "name": "stdout",
          "text": [
            "313/313 - 1s - loss: 0.0408 - accuracy: 0.9875 - 1s/epoch - 3ms/step\n",
            "test_loss: 0.0408114492893219 \n",
            "test_accuracy: 0.987500011920929\n"
          ]
        }
      ]
    },
    {
      "cell_type": "code",
      "source": [
        "# 어떤 데이터를 잘못 추론했는지 확인해보기\n",
        "\n",
        "predicted_result = model.predict(x_test_reshaped)  # model이 추론한 확률값. \n",
        "predicted_labels = np.argmax(predicted_result, axis=1)\n",
        "\n",
        "idx = 0  # 1번째 x_test를 살펴보자. \n",
        "print('model.predict() 결과 : ', predicted_result[idx])\n",
        "print('model이 추론한 가장 가능성이 높은 결과 : ', predicted_labels[idx])\n",
        "print('실제 데이터의 라벨 : ', y_test[idx])\n",
        "\n",
        "# 실제 데이터 확인\n",
        "plt.imshow(x_test[idx],cmap=plt.cm.binary)\n",
        "plt.show()"
      ],
      "metadata": {
        "colab": {
          "base_uri": "https://localhost:8080/",
          "height": 521
        },
        "id": "aHCwlu-5MOEo",
        "outputId": "3d91ed67-0ce8-46a8-c95e-e72e85f49d34"
      },
      "execution_count": 91,
      "outputs": [
        {
          "output_type": "stream",
          "name": "stdout",
          "text": [
            "313/313 [==============================] - 1s 2ms/step\n",
            "model.predict() 결과 :  [2.1141577e-07 8.9490132e-10 1.5673733e-07 1.3903451e-05 1.6177569e-10\n",
            " 5.4961557e-08 2.8396106e-13 9.9998569e-01 3.8315415e-10 7.8034921e-09]\n",
            "model이 추론한 가장 가능성이 높은 결과 :  7\n",
            "실제 데이터의 라벨 :  7\n"
          ]
        },
        {
          "output_type": "display_data",
          "data": {
            "text/plain": [
              "<Figure size 640x480 with 1 Axes>"
            ],
            "image/png": "[encoded data removed]"
          },
          "metadata": {}
        }
      ]
    },
    {
      "cell_type": "code",
      "source": [
        "# 추론해낸 숫자와 실제 값이 다른 경우를 확인해보는 코드이다.\n",
        "\n",
        "import random\n",
        "wrong_predict_list=[]\n",
        "for i, _ in enumerate(predicted_labels):\n",
        "    # i번째 test_labels과 y_test이 다른 경우만 모아 봅시다. \n",
        "    if predicted_labels[i] != y_test[i]:\n",
        "        wrong_predict_list.append(i)\n",
        "\n",
        "# wrong_predict_list 에서 랜덤하게 5개만 뽑아봅시다.\n",
        "samples = random.choices(population=wrong_predict_list, k=5)\n",
        "\n",
        "for n in samples:\n",
        "    print(\"예측확률분포: \" + str(predicted_result[n]))\n",
        "    print(\"라벨: \" + str(y_test[n]) + \", 예측결과: \" + str(predicted_labels[n]))\n",
        "    plt.imshow(x_test[n], cmap=plt.cm.binary)\n",
        "    plt.show()"
      ],
      "metadata": {
        "colab": {
          "base_uri": "https://localhost:8080/",
          "height": 1000
        },
        "id": "pHupabvHMhn8",
        "outputId": "e4439abf-fde4-40c2-b8fb-04be68fb363b"
      },
      "execution_count": 92,
      "outputs": [
        {
          "output_type": "stream",
          "name": "stdout",
          "text": [
            "예측확률분포: [1.3845011e-08 9.4528465e-09 1.5741348e-07 1.3480558e-01 3.6978662e-08\n",
            " 2.7519140e-02 8.7273602e-09 1.1000561e-08 4.4053337e-01 3.9714170e-01]\n",
            "라벨: 9, 예측결과: 8\n"
          ]
        },
        {
          "output_type": "display_data",
          "data": {
            "text/plain": [
              "<Figure size 640x480 with 1 Axes>"
            ],
            "image/png": "[encoded data removed]"
          },
          "metadata": {}
        },
        {
          "output_type": "stream",
          "name": "stdout",
          "text": [
            "예측확률분포: [5.6116946e-02 1.1468491e-03 1.5791714e-02 9.0375113e-01 6.4303278e-04\n",
            " 1.9877688e-03 2.6488437e-05 1.1448632e-02 3.6172024e-03 5.4701539e-03]\n",
            "라벨: 9, 예측결과: 3\n"
          ]
        },
        {
          "output_type": "display_data",
          "data": {
            "text/plain": [
              "<Figure size 640x480 with 1 Axes>"
            ],
            "image/png": "[encoded data removed]"
          },
          "metadata": {}
        },
        {
          "output_type": "stream",
          "name": "stdout",
          "text": [
            "예측확률분포: [5.6116946e-02 1.1468491e-03 1.5791714e-02 9.0375113e-01 6.4303278e-04\n",
            " 1.9877688e-03 2.6488437e-05 1.1448632e-02 3.6172024e-03 5.4701539e-03]\n",
            "라벨: 9, 예측결과: 3\n"
          ]
        },
        {
          "output_type": "display_data",
          "data": {
            "text/plain": [
              "<Figure size 640x480 with 1 Axes>"
            ],
            "image/png": "[encoded data removed]"
          },
          "metadata": {}
        },
        {
          "output_type": "stream",
          "name": "stdout",
          "text": [
            "예측확률분포: [7.1569026e-14 2.4600092e-12 6.1008962e-11 2.7745122e-01 3.5464934e-14\n",
            " 7.2254747e-01 4.4598128e-13 1.0595132e-12 1.3287336e-06 3.1121466e-12]\n",
            "라벨: 3, 예측결과: 5\n"
          ]
        },
        {
          "output_type": "display_data",
          "data": {
            "text/plain": [
              "<Figure size 640x480 with 1 Axes>"
            ],
            "image/png": "[encoded data removed]"
          },
          "metadata": {}
        },
        {
          "output_type": "stream",
          "name": "stdout",
          "text": [
            "예측확률분포: [1.0378447e-11 5.7986533e-08 7.5095421e-08 4.3523116e-08 8.3126370e-12\n",
            " 1.0767388e-01 3.1726971e-02 2.8702755e-14 8.6059868e-01 3.2446960e-07]\n",
            "라벨: 6, 예측결과: 8\n"
          ]
        },
        {
          "output_type": "display_data",
          "data": {
            "text/plain": [
              "<Figure size 640x480 with 1 Axes>"
            ],
            "image/png": "[encoded data removed]"
          },
          "metadata": {}
        }
      ]
    },
    {
      "cell_type": "code",
      "source": [
        "# PIL 라이브러리가 설치되어 있지 않다면 설치\n",
        "!pip install pillow   \n",
        "\n",
        "from PIL import Image\n",
        "import os, glob\n",
        "\n",
        "print(\"PIL 라이브러리 import 완료!\")\n",
        "\n",
        "# 이미지 Resize 하기\n",
        "# 가위 이미지가 저장된 디렉토리 아래의 모든 jpg 파일을 읽어들여서\n",
        "# image_dir_path = os.getenv(\"HOME\") + \"/aiffel/rock_scissor_paper/train/scissor\"\n",
        "image_dir_path = \"/content/gdrive/MyDrive/aiffel/workplace/rock_scissor_paper/train/scissors\"\n",
        "\n",
        "print(\"이미지 디렉토리 경로: \", image_dir_path)\n",
        "\n",
        "images=glob.glob(image_dir_path + \"/*.jpg\")  \n",
        "\n",
        "# 파일마다 모두 28x28 사이즈로 바꾸어 저장\n",
        "target_size=(28,28)\n",
        "for img in images:\n",
        "    old_img=Image.open(img)\n",
        "    new_img=old_img.resize(target_size,Image.ANTIALIAS)\n",
        "    new_img.save(img,\"JPEG\")\n",
        "\n",
        "print(\"가위 이미지 resize 완료!\")"
      ],
      "metadata": {
        "colab": {
          "base_uri": "https://localhost:8080/"
        },
        "id": "ecCcZIVrNDae",
        "outputId": "c16667a8-f412-442a-89f8-9a8b4eabf6ed"
      },
      "execution_count": 93,
      "outputs": [
        {
          "output_type": "stream",
          "name": "stdout",
          "text": [
            "Looking in indexes: https://pypi.org/simple, https://us-python.pkg.dev/colab-wheels/public/simple/\n",
            "Requirement already satisfied: pillow in /usr/local/lib/python3.10/dist-packages (8.4.0)\n",
            "PIL 라이브러리 import 완료!\n",
            "이미지 디렉토리 경로:  /content/gdrive/MyDrive/aiffel/workplace/rock_scissor_paper/train/scissors\n",
            "가위 이미지 resize 완료!\n"
          ]
        }
      ]
    },
    {
      "cell_type": "code",
      "source": [
        "# load_data 함수\n",
        "\n",
        "def load_data(img_path):\n",
        "    # 가위 : 0, 바위 : 1, 보 : 2\n",
        "    number_of_data=3300   # 가위바위보 이미지 개수 총합에 주의하세요.\n",
        "    img_size=28\n",
        "    color=3\n",
        "    #이미지 데이터와 라벨(가위 : 0, 바위 : 1, 보 : 2) 데이터를 담을 행렬(matrix) 영역을 생성합니다.\n",
        "    imgs=np.zeros(number_of_data*img_size*img_size*color,dtype=np.int32).reshape(number_of_data,img_size,img_size,color)\n",
        "    labels=np.zeros(number_of_data,dtype=np.int32)\n",
        "\n",
        "    idx=0\n",
        "    for file in glob.iglob(img_path+'/scissor/*.jpg'):\n",
        "        img = np.array(Image.open(file),dtype=np.int32)\n",
        "        imgs[idx,:,:,:]=img    # 데이터 영역에 이미지 행렬을 복사\n",
        "        labels[idx]=0   # 가위 : 0\n",
        "        idx=idx+1\n",
        "\n",
        "    for file in glob.iglob(img_path+'/rock/*.jpg'):\n",
        "        img = np.array(Image.open(file),dtype=np.int32)\n",
        "        imgs[idx,:,:,:]=img    # 데이터 영역에 이미지 행렬을 복사\n",
        "        labels[idx]=1   # 바위 : 1\n",
        "        idx=idx+1       \n",
        "    \n",
        "    for file in glob.iglob(img_path+'/paper/*.jpg'):\n",
        "        img = np.array(Image.open(file),dtype=np.int32)\n",
        "        imgs[idx,:,:,:]=img    # 데이터 영역에 이미지 행렬을 복사\n",
        "        labels[idx]=2   # 보 : 2\n",
        "        idx=idx+1\n",
        "        \n",
        "    print(\"학습데이터(x_train)의 이미지 개수는\",idx,\"입니다.\")\n",
        "    return imgs, labels\n",
        "\n",
        "# image_dir_path = os.getenv(\"HOME\") + \"/aiffel/rock_scissor_paper\"\n",
        "image_dir_path = \"/content/gdrive/MyDrive/aiffel/workplace/rock_scissor_paper/train\"\n",
        "(x_train, y_train)=load_data(image_dir_path)\n",
        "x_train_norm = x_train/255.0   # 입력은 0~1 사이의 값으로 정규화\n",
        "\n",
        "print(\"x_train shape: {}\".format(x_train.shape))\n",
        "print(\"y_train shape: {}\".format(y_train.shape))"
      ],
      "metadata": {
        "colab": {
          "base_uri": "https://localhost:8080/"
        },
        "id": "7VwHAPpzNnY7",
        "outputId": "d4ec8e70-0443-4e92-c94c-0d70a8d7bdc1"
      },
      "execution_count": 95,
      "outputs": [
        {
          "output_type": "stream",
          "name": "stdout",
          "text": [
            "학습데이터(x_train)의 이미지 개수는 402 입니다.\n",
            "x_train shape: (3300, 28, 28, 3)\n",
            "y_train shape: (3300,)\n"
          ]
        }
      ]
    },
    {
      "cell_type": "code",
      "source": [
        "# train 데이터 리사이즈.\n",
        "\n",
        "def resize_images(img_path):\n",
        "\timages=glob.glob(img_path + \"/*.jpg\")  \n",
        "    \n",
        "\tprint(len(images), \" images to be resized.\")\n",
        "\n",
        "    # 파일마다 모두 28x28 사이즈로 바꾸어 저장합니다.\n",
        "\ttarget_size=(28,28)\n",
        "\tfor img in images:\n",
        "\t\told_img=Image.open(img)\n",
        "\t\tnew_img=old_img.resize(target_size,Image.ANTIALIAS)\n",
        "\t\tnew_img.save(img, \"JPEG\")\n",
        "    \n",
        "\tprint(len(images), \" images resized.\")\n",
        "\t\n",
        "# 가위 이미지가 저장된 디렉토리 아래의 모든 jpg 파일을 읽어들여서\n",
        "image_dir_path = \"/content/gdrive/MyDrive/aiffel/workplace/rock_scissor_paper/train/scissors\"\n",
        "\n",
        "resize_images(image_dir_path)\n",
        "\n",
        "print(\"가위 이미지 resize 완료!\")\n",
        "print(\"path:\"+image_dir_path)\n",
        "\n",
        "\n",
        "\n",
        "# 바위 이미지가 저장된 디렉토리 아래의 모든 jpg 파일을 읽어들여서\n",
        "image_dir_path = \"/content/gdrive/MyDrive/aiffel/workplace/rock_scissor_paper/train/rock\"\n",
        "resize_images(image_dir_path)\n",
        "# (x_train, y_train) = load_data(image_dir_path)\n",
        "\n",
        "print(\"바위 이미지 resize 완료!\")\n",
        "print(\"path:\"+image_dir_path)\n",
        "\n",
        "# 보 이미지가 저장된 디렉토리 아래의 모든 jpg 파일을 읽어들여서\n",
        "image_dir_path = \"/content/gdrive/MyDrive/aiffel/workplace/rock_scissor_paper/train/paper\"\n",
        "resize_images(image_dir_path)\n",
        "\n",
        "print(\"보 이미지 resize 완료!\")\n",
        "print(\"path:\"+image_dir_path)"
      ],
      "metadata": {
        "colab": {
          "base_uri": "https://localhost:8080/"
        },
        "id": "97-_JNyvx1C_",
        "outputId": "cdc6d53c-951d-498a-fded-2478052f46e6"
      },
      "execution_count": 104,
      "outputs": [
        {
          "output_type": "stream",
          "name": "stdout",
          "text": [
            "201  images to be resized.\n",
            "201  images resized.\n",
            "가위 이미지 resize 완료!\n",
            "path:/content/gdrive/MyDrive/aiffel/workplace/rock_scissor_paper/train/scissors\n",
            "201  images to be resized.\n",
            "201  images resized.\n",
            "바위 이미지 resize 완료!\n",
            "path:/content/gdrive/MyDrive/aiffel/workplace/rock_scissor_paper/train/rock\n",
            "201  images to be resized.\n",
            "201  images resized.\n",
            "보 이미지 resize 완료!\n",
            "path:/content/gdrive/MyDrive/aiffel/workplace/rock_scissor_paper/train/paper\n"
          ]
        }
      ]
    },
    {
      "cell_type": "code",
      "source": [],
      "metadata": {
        "id": "noVYo0Ec9dJg"
      },
      "execution_count": 59,
      "outputs": []
    },
    {
      "cell_type": "code",
      "source": [
        "import tensorflow as tf\n",
        "from tensorflow import keras\n",
        "import numpy as np\n",
        "\n",
        "n_channel_1=32\n",
        "n_channel_2=64\n",
        "n_dense=128\n",
        "# n_train_epoch=5\n",
        "n_train_epoch=15\n",
        "\n",
        "model=keras.models.Sequential()\n",
        "model.add(keras.layers.Conv2D(n_channel_1, (3,3), activation='relu', input_shape=(28,28,3)))\n",
        "model.add(keras.layers.MaxPool2D(2,2))\n",
        "model.add(keras.layers.Conv2D(n_channel_2, (3,3), activation='relu'))\n",
        "model.add(keras.layers.MaxPooling2D((2,2)))\n",
        "model.add(keras.layers.Flatten())\n",
        "model.add(keras.layers.Dense(n_dense, activation='relu'))\n",
        "model.add(keras.layers.Dense(10, activation='softmax'))\n",
        "\n",
        "\n",
        "model.summary()\n",
        "\n",
        "import matplotlib.pyplot as plt\n",
        "plt.imshow(x_train[0])\n",
        "print('라벨: ', y_train[0])\n",
        "\n",
        "\n",
        "index=50     \n",
        "plt.imshow(x_train[index],cmap=plt.cm.binary)\n",
        "plt.show()\n",
        "print( (index+1), '번째 이미지는 바로 ',  y_train[index], '입니다.')"
      ],
      "metadata": {
        "colab": {
          "base_uri": "https://localhost:8080/",
          "height": 923
        },
        "id": "P9_H3qSM92nW",
        "outputId": "32ec2ce3-6515-4b5c-a804-a264689250e0"
      },
      "execution_count": 105,
      "outputs": [
        {
          "output_type": "stream",
          "name": "stdout",
          "text": [
            "Model: \"sequential_10\"\n",
            "_________________________________________________________________\n",
            " Layer (type)                Output Shape              Param #   \n",
            "=================================================================\n",
            " conv2d_20 (Conv2D)          (None, 26, 26, 32)        896       \n",
            "                                                                 \n",
            " max_pooling2d_20 (MaxPoolin  (None, 13, 13, 32)       0         \n",
            " g2D)                                                            \n",
            "                                                                 \n",
            " conv2d_21 (Conv2D)          (None, 11, 11, 64)        18496     \n",
            "                                                                 \n",
            " max_pooling2d_21 (MaxPoolin  (None, 5, 5, 64)         0         \n",
            " g2D)                                                            \n",
            "                                                                 \n",
            " flatten_10 (Flatten)        (None, 1600)              0         \n",
            "                                                                 \n",
            " dense_20 (Dense)            (None, 128)               204928    \n",
            "                                                                 \n",
            " dense_21 (Dense)            (None, 10)                1290      \n",
            "                                                                 \n",
            "=================================================================\n",
            "Total params: 225,610\n",
            "Trainable params: 225,610\n",
            "Non-trainable params: 0\n",
            "_________________________________________________________________\n",
            "라벨:  1\n"
          ]
        },
        {
          "output_type": "display_data",
          "data": {
            "text/plain": [
              "<Figure size 640x480 with 1 Axes>"
            ],
            "image/png": "[encoded data removed]"
          },
          "metadata": {}
        },
        {
          "output_type": "stream",
          "name": "stdout",
          "text": [
            "51 번째 이미지는 바로  1 입니다.\n"
          ]
        }
      ]
    },
    {
      "cell_type": "code",
      "source": [
        "# # 가위 : 0, 바위 : 1, 보 : 2 \n",
        "# 위에서 바위 (1)에 대한 것은 일치."
      ],
      "metadata": {
        "id": "w2XEsFLzJ29e"
      },
      "execution_count": 99,
      "outputs": []
    },
    {
      "cell_type": "code",
      "source": [
        "# train에 대한 학습\n",
        "\n",
        "model.compile(optimizer='adam',\n",
        "             loss='sparse_categorical_crossentropy',\n",
        "             metrics=['accuracy'])\n",
        "\n",
        "model.fit(x_train, y_train, epochs=10)\n",
        "\n",
        "\n",
        "\n"
      ],
      "metadata": {
        "colab": {
          "base_uri": "https://localhost:8080/"
        },
        "id": "qRpu_8fnx5ue",
        "outputId": "69727885-f7f4-4753-c728-6a1dc18e558e"
      },
      "execution_count": 114,
      "outputs": [
        {
          "output_type": "stream",
          "name": "stdout",
          "text": [
            "Epoch 1/10\n",
            "104/104 [==============================] - 2s 4ms/step - loss: 0.0422 - accuracy: 0.9918\n",
            "Epoch 2/10\n",
            "104/104 [==============================] - 1s 5ms/step - loss: 0.1140 - accuracy: 0.9861\n",
            "Epoch 3/10\n",
            "104/104 [==============================] - 1s 5ms/step - loss: 0.0151 - accuracy: 0.9955\n",
            "Epoch 4/10\n",
            "104/104 [==============================] - 1s 5ms/step - loss: 0.0074 - accuracy: 0.9970\n",
            "Epoch 5/10\n",
            "104/104 [==============================] - 1s 5ms/step - loss: 9.4763e-04 - accuracy: 0.9997\n",
            "Epoch 6/10\n",
            "104/104 [==============================] - 1s 5ms/step - loss: 3.0186e-04 - accuracy: 1.0000\n",
            "Epoch 7/10\n",
            "104/104 [==============================] - 1s 5ms/step - loss: 3.2889e-04 - accuracy: 1.0000\n",
            "Epoch 8/10\n",
            "104/104 [==============================] - 0s 5ms/step - loss: 1.4638e-04 - accuracy: 1.0000\n",
            "Epoch 9/10\n",
            "104/104 [==============================] - 0s 4ms/step - loss: 9.1127e-05 - accuracy: 1.0000\n",
            "Epoch 10/10\n",
            "104/104 [==============================] - 0s 4ms/step - loss: 6.6389e-05 - accuracy: 1.0000\n"
          ]
        },
        {
          "output_type": "execute_result",
          "data": {
            "text/plain": [
              "<keras.callbacks.History at 0x7fa58b106b90>"
            ]
          },
          "metadata": {},
          "execution_count": 114
        }
      ]
    },
    {
      "cell_type": "code",
      "source": [
        "# test 데이터도 resize 해주는 것 처리해주자.\n",
        "\n",
        "def resize_images(img_path):\n",
        "\timages=glob.glob(img_path + \"/*.jpg\")  \n",
        "    \n",
        "\tprint(len(images), \" images to be resized.\")\n",
        "\n",
        "    # 파일마다 모두 28x28 사이즈로 바꾸어 저장합니다.\n",
        "\ttarget_size=(28,28)\n",
        "\tfor img in images:\n",
        "\t\told_img=Image.open(img)\n",
        "\t\tnew_img=old_img.resize(target_size,Image.ANTIALIAS)\n",
        "\t\tnew_img.save(img, \"JPEG\")\n",
        "    \n",
        "\tprint(len(images), \" images resized.\")\n",
        "\t\n",
        "# 가위 이미지가 저장된 디렉토리 아래의 모든 jpg 파일을 읽어들여서\n",
        "image_dir_path = \"/content/gdrive/MyDrive/aiffel/workplace/rock_scissor_paper/test/testdata1/scissors\"\n",
        "\n",
        "resize_images(image_dir_path)\n",
        "\n",
        "print(\"가위 이미지 resize 완료!\")\n",
        "print(\"path:\"+image_dir_path)\n",
        "\n",
        "\n",
        "\n",
        "# 바위 이미지가 저장된 디렉토리 아래의 모든 jpg 파일을 읽어들여서\n",
        "image_dir_path = \"/content/gdrive/MyDrive/aiffel/workplace/rock_scissor_paper/test/testdata1/rock\"\n",
        "resize_images(image_dir_path)\n",
        "\n",
        "print(\"바위 이미지 resize 완료!\")\n",
        "print(\"path:\"+image_dir_path)\n",
        "\n",
        "# 보 이미지가 저장된 디렉토리 아래의 모든 jpg 파일을 읽어들여서\n",
        "image_dir_path = \"/content/gdrive/MyDrive/aiffel/workplace/rock_scissor_paper/test/testdata1/paper\"\n",
        "resize_images(image_dir_path)\n",
        "\n",
        "print(\"보 이미지 resize 완료!\")\n",
        "print(\"path:\"+image_dir_path)\n",
        "\n"
      ],
      "metadata": {
        "id": "0AuechJr-OVf",
        "colab": {
          "base_uri": "https://localhost:8080/"
        },
        "outputId": "874d34dd-2d86-4b9e-8d4f-8a64276d8e71"
      },
      "execution_count": 115,
      "outputs": [
        {
          "output_type": "stream",
          "name": "stdout",
          "text": [
            "100  images to be resized.\n",
            "100  images resized.\n",
            "가위 이미지 resize 완료!\n",
            "path:/content/gdrive/MyDrive/aiffel/workplace/rock_scissor_paper/test/testdata1/scissors\n",
            "100  images to be resized.\n",
            "100  images resized.\n",
            "바위 이미지 resize 완료!\n",
            "path:/content/gdrive/MyDrive/aiffel/workplace/rock_scissor_paper/test/testdata1/rock\n",
            "100  images to be resized.\n",
            "100  images resized.\n",
            "보 이미지 resize 완료!\n",
            "path:/content/gdrive/MyDrive/aiffel/workplace/rock_scissor_paper/test/testdata1/paper\n"
          ]
        }
      ]
    },
    {
      "cell_type": "code",
      "source": [
        "def load_data2(img_path):\n",
        "    # 가위 : 0, 바위 : 1, 보 : 2\n",
        "    # number_of_data=300   # 가위바위보 이미지 개수 총합에 주의하세요.\n",
        "    number_of_data=600   # 가위바위보 이미지 개수 총합에 주의하세요.  \n",
        "    # 트레인 데이터에 지예님 데이터를 추가하였으며, 수빈님 데이터를 테스트 데이터로 사용하였습니다.\n",
        "    img_size=28\n",
        "    color=3\n",
        "    #이미지 데이터와 라벨(가위 : 0, 바위 : 1, 보 : 2) 데이터를 담을 행렬(matrix) 영역을 생성합니다.\n",
        "    imgs=np.zeros(number_of_data*img_size*img_size*color,dtype=np.int32).reshape(number_of_data,img_size,img_size,color)\n",
        "    labels=np.zeros(number_of_data,dtype=np.int32)\n",
        "\n",
        "    idx=0\n",
        "    for file in glob.iglob(img_path+'/scissors/*.jpg'):\n",
        "        img = np.array(Image.open(file),dtype=np.int32)\n",
        "        imgs[idx,:,:,:]=img    # 데이터 영역에 이미지 행렬을 복사\n",
        "        labels[idx]=0   # 가위 : 0\n",
        "        idx=idx+1\n",
        "\n",
        "    for file in glob.iglob(img_path+'/rock/*.jpg'):\n",
        "        img = np.array(Image.open(file),dtype=np.int32)\n",
        "        imgs[idx,:,:,:]=img    # 데이터 영역에 이미지 행렬을 복사\n",
        "        labels[idx]=1   # 바위 : 1\n",
        "        idx=idx+1       \n",
        "    \n",
        "    for file in glob.iglob(img_path+'/paper/*.jpg'):\n",
        "        img = np.array(Image.open(file),dtype=np.int32)\n",
        "        imgs[idx,:,:,:]=img    # 데이터 영역에 이미지 행렬을 복사\n",
        "        labels[idx]=2   # 보 : 2\n",
        "        idx=idx+1\n",
        "        \n",
        "    print(\"테스트데이터(x_test)의 이미지 개수는\",idx,\"입니다.\")\n",
        "    return imgs, labels\n",
        "\n",
        "\n",
        "image_dir_path = \"/content/gdrive/MyDrive/aiffel/workplace/rock_scissor_paper/test/testdata1/\"\n",
        "(x_test, y_test)=load_data2(image_dir_path)\n",
        "x_test_norm = x_test/255.0   # 입력은 0~1 사이의 값으로 정규화\n",
        "\n",
        "print(\"x_test shape: {}\".format(x_test.shape))\n",
        "print(\"y_test shape: {}\".format(y_test.shape))"
      ],
      "metadata": {
        "id": "Rksuwc0ZZmDm",
        "colab": {
          "base_uri": "https://localhost:8080/"
        },
        "outputId": "d37e9317-9933-47ef-f8f0-d3eb47defcd8"
      },
      "execution_count": 118,
      "outputs": [
        {
          "output_type": "stream",
          "name": "stdout",
          "text": [
            "테스트데이터(x_test)의 이미지 개수는 300 입니다.\n",
            "x_test shape: (600, 28, 28, 3)\n",
            "y_test shape: (600,)\n"
          ]
        }
      ]
    },
    {
      "cell_type": "code",
      "source": [
        "# Accuracy 축정\n",
        "test_loss, test_accuracy = model.evaluate(x_test, y_test, verbose=2)\n",
        "print(\"test_loss: {} \".format(test_loss))\n",
        "print(\"test_accuracy: {}\".format(test_accuracy))\n",
        "\n",
        "# 남성(도진영)의 손을 데이터로 사용하고, \n",
        "# 수빈님의 손으로 테스트 데이터로 사용하였습니다.\n",
        "# epoch: 10으로 학습하고 테스트하였을때,\n",
        "# 최초 test_loss: 1.4465088844299316 \n",
        "# 최초 test_accuracy: 0.3466666638851166\n",
        "# ----------------------------------------\n",
        "# 개선을 위해서 남성(도진영)의 손 데이터로 학습하고 \n",
        "# 테스트 데이터는 수빈님의 손을 사용하였습니다.\n",
        "# 그랬음에도 수치상으로 소폭 상승함으로 끝나서\n",
        "# epoch: 15로 바꿔서 증가시켜서 학습하고 테스트하였고..\n",
        "# 남성의 손으로 가위바위보 데이터를 했을때 낮은 정확도 등이 문제가 되어서\n",
        "# 트레인 데이터에 지예님 데이터를 추가하였으며, 수빈님 데이터를 테스트 데이터로 사용하였습니다.\n",
        "# 그 결과 accuracy 수치가 증가하여 긍정적인 점수를 얻었습니다.\n",
        "# train data 의 갯수를 늘려도 효과가 미비하여,\n",
        "# 남성과 여성의 손 데이터를 혼합하여 train 시키고, test data를 여성의 손으로 수행하였더니.\n",
        "# accuracy가 0.7166666388511658 로 2배 이상 상승하였습니다. (epochs 도 15로 증가함)\n"
      ],
      "metadata": {
        "id": "RmjO49ja5ntp",
        "colab": {
          "base_uri": "https://localhost:8080/"
        },
        "outputId": "ff0641fc-48d1-42da-e0ac-bb59355ca125"
      },
      "execution_count": 119,
      "outputs": [
        {
          "output_type": "stream",
          "name": "stdout",
          "text": [
            "19/19 - 0s - loss: 4.3253 - accuracy: 0.7167 - 127ms/epoch - 7ms/step\n",
            "test_loss: 4.325318813323975 \n",
            "test_accuracy: 0.7166666388511658\n"
          ]
        }
      ]
    },
    {
      "cell_type": "code",
      "source": [],
      "metadata": {
        "id": "lEAXj8rwiDEw"
      },
      "execution_count": 64,
      "outputs": []
    }
  ]
}